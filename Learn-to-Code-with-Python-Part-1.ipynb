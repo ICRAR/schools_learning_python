{
 "cells": [
  {
   "cell_type": "markdown",
   "metadata": {},
   "source": [
    "\n",
    "Introduction\n",
    "============\n",
    "\n",
    "Python\n",
    "------\n",
    "\n",
    "Computer programming, or coding, is a crucial skill every child should be learning. We use computers to solve problems, play games, help us work more effectively, perform repetitive tasks, store and recall information, create something new, and connect with our friends and the world. Understanding how to code puts all this power at our fingertips.\n",
    "\n",
    "Everyone can learn to code; it’s just like solving a puzzle or a riddle. You apply logic, try a solution, experiment a little more, and then solve the problem. The time to start learning to code is now!"
   ]
  },
  {
   "cell_type": "code",
   "execution_count": null,
   "metadata": {},
   "outputs": [],
   "source": [
    "print('Hello, World!')\n",
    "# This is a comment, it isn't run as code, but often they are helpful"
   ]
  },
  {
   "cell_type": "markdown",
   "metadata": {},
   "source": [
    "To run a block of code like the one above, click on it to select it and then you can either click the run button in the menu above or type shift-enter. The output of the block is shown below the block.\n",
    "\n",
    "All of the code blocks on this page are interactive. Please make sure you run them all at least once. Feel free the change the code and see what the affect is."
   ]
  },
  {
   "cell_type": "markdown",
   "metadata": {},
   "source": [
    "Part 1\n",
    "======\n",
    " \n",
    "Arithmetic\n",
    "----------\n",
    "\n",
    "Like every programming language, Python is a good calculator. Run the block of code below to make sure the answer is right!"
   ]
  },
  {
   "cell_type": "code",
   "execution_count": null,
   "metadata": {},
   "outputs": [],
   "source": [
    "1 + 1"
   ]
  },
  {
   "cell_type": "markdown",
   "metadata": {},
   "source": [
    "\n",
    "Hopefully it worked. \n",
    "\n",
    "Now lets say you won a Maths prize. You are about to collect your \\$500, but first you have to answer this skill testing question:\n",
    "\n",
    "$$8 + 6 \\times 2 \\times \\times 3 - (15 - 13)$$\n",
    "\n",
    "Fortuntely Python can help. The order of operations you've learnt in school applies, BEDMAS (brackets, exponents, division, multiplication, addition, subtraction)"
   ]
  },
  {
   "cell_type": "code",
   "execution_count": null,
   "metadata": {},
   "outputs": [],
   "source": [
    "8 + 6*2*3 - (15 - 13)"
   ]
  },
  {
   "cell_type": "markdown",
   "metadata": {},
   "source": [
    "Numbers are valid Python code as are the common operators, +, /, //, * (this is instead of $\\times$) and -. You can write different types of numbers including integers, real numbers (floating point) and negative integers."
   ]
  },
  {
   "cell_type": "code",
   "execution_count": null,
   "metadata": {},
   "outputs": [],
   "source": [
    "42 + 3.149 + -1"
   ]
  },
  {
   "cell_type": "markdown",
   "metadata": {},
   "source": [
    "Since 42 is literally 42, we call these numbers *literals*. You are literally writing number in your Python code.\n",
    "\n",
    "Pay back the Teacher\n",
    "------------\n",
    "\n",
    "You've won the prize, but you promised Mrs O'Connor she could have 10% if you won."
   ]
  },
  {
   "cell_type": "code",
   "execution_count": null,
   "metadata": {},
   "outputs": [],
   "source": [
    "winnings = 500.00\n",
    "# as a decimal, 10% would be 0.1\n",
    "teachers_percent = 0.10\n",
    "winnings * teachers_percent"
   ]
  },
  {
   "cell_type": "markdown",
   "metadata": {},
   "source": [
    "If you want to make it more user friendly you could do the following."
   ]
  },
  {
   "cell_type": "code",
   "execution_count": null,
   "metadata": {},
   "outputs": [],
   "source": [
    "winnings = 500.00\n",
    "# as integer, 10% would be 10\n",
    "teachers_percent = 10\n",
    "winnings * teachers_percent / 100"
   ]
  },
  {
   "cell_type": "markdown",
   "metadata": {},
   "source": [
    "Because of BEDMAS we don't need brackets, but winnings * (teachers_percent / 100) would work too."
   ]
  },
  {
   "cell_type": "markdown",
   "metadata": {},
   "source": [
    "Variables\n",
    "----------\n",
    "\n",
    "*winnings* and *teachers_percent* aren't literal numbers, they are variables.\n",
    "\n",
    "In Python variables are like buckets. You can put anything you want in them. Just give them a name and you can use them in place of the literal value.\n",
    "\n",
    "Above winnings was 500.00 but we could also set winnings to the text 'Hello, World'"
   ]
  },
  {
   "cell_type": "code",
   "execution_count": null,
   "metadata": {},
   "outputs": [],
   "source": [
    "winnings = 500.00\n",
    "print(winnings)\n",
    "winnings = \"Hello, World!\"\n",
    "print(winnings)"
   ]
  },
  {
   "cell_type": "code",
   "execution_count": null,
   "metadata": {},
   "outputs": [],
   "source": [
    "winnings"
   ]
  },
  {
   "cell_type": "markdown",
   "metadata": {},
   "source": [
    "The value a variable has only depends on what it was last assigned.\n",
    "\n",
    "It is like a spreadsheet except you choose the names for the cells yourself.\n",
    "\n",
    "Exceptional Python\n",
    "-------------------\n",
    "\n",
    "Python only understands certain code. When you write something Python doesn't understand it throws an exception and tries to explain what went wrong, but it can only speak in a broken Pythonesque english. Let's see some examples by running these code blocks"
   ]
  },
  {
   "cell_type": "code",
   "execution_count": null,
   "metadata": {},
   "outputs": [],
   "source": [
    "gibberish"
   ]
  },
  {
   "cell_type": "code",
   "execution_count": null,
   "metadata": {},
   "outputs": [],
   "source": [
    "*adsflf_"
   ]
  },
  {
   "cell_type": "code",
   "execution_count": null,
   "metadata": {},
   "outputs": [],
   "source": [
    "print('Hello'"
   ]
  },
  {
   "cell_type": "code",
   "execution_count": null,
   "metadata": {},
   "outputs": [],
   "source": [
    "1v34"
   ]
  },
  {
   "cell_type": "code",
   "execution_count": null,
   "metadata": {},
   "outputs": [],
   "source": [
    "2000 / 0"
   ]
  },
  {
   "cell_type": "markdown",
   "metadata": {},
   "source": [
    "Python tries to tell you where it stopped understanding, but in the above examples, each program is only 1 line long. \n",
    "\n",
    "It also tries to show you where on the line the problem happened with caret (\"^\"). \n",
    "\n",
    "Finally it tells you the type of thing that went wrong, (NameError, SyntaxError, ZeroDivisionError) and a bit more information like \"name 'gibberish' is not defined\" or \"unexpected EOF while parsing\".\n",
    "\n",
    "Unfortunately you might not find \"unexpected EOF while parsing\" too helpful. EOF stands for End of File, but what file? What is parsing? Python does it's best, but it does take a bit of time to develop a knack for what these messages mean. If you run into an error you don't understand please ask a tutor.\n",
    "\n",
    "Exercises\n",
    "---------\n",
    "\n",
    "Try to fix two three blocks of code so that they run successfully"
   ]
  },
  {
   "cell_type": "code",
   "execution_count": null,
   "metadata": {},
   "outputs": [],
   "source": [
    "print('Hello, World!)"
   ]
  },
  {
   "cell_type": "code",
   "execution_count": null,
   "metadata": {},
   "outputs": [],
   "source": [
    "aswer = 3 * 8\n",
    "print(answer)"
   ]
  },
  {
   "cell_type": "markdown",
   "metadata": {},
   "source": [
    "Part 2\n",
    "======\n",
    "\n",
    "The Written Word\n",
    "----------------\n",
    "\n",
    "Numbers are great... but most of our day to day computing needs involves text, from emails to tweets to documents.\n",
    "\n",
    "We have already seen a text literal in Python, \"Hello, World!\""
   ]
  },
  {
   "cell_type": "code",
   "execution_count": null,
   "metadata": {},
   "outputs": [],
   "source": [
    "\"Hello, World!\""
   ]
  },
  {
   "cell_type": "markdown",
   "metadata": {},
   "source": [
    "Text literals are surrounded by quotes. Without the quotes Hello by itself would be viewed as a variable name.\n",
    "\n",
    "You can use either double quotes (\") or single quotes (') for text literals.\n",
    "\n",
    "As we saw before we can also save text literals in variables.\n",
    "\n",
    "What's a String?\n",
    "----------------\n",
    "\n",
    "Programmers call text literals *strings* because we are weird like that. From now on we will only refer to strings, but we just mean pieces of text inside our code.\n",
    "\n",
    "Let's use strings with variables!"
   ]
  },
  {
   "cell_type": "code",
   "execution_count": null,
   "metadata": {},
   "outputs": [],
   "source": [
    "your_name = \"Put your name here\".upper()\n",
    "print(\"Hello, \")\n",
    "print(your_name)"
   ]
  },
  {
   "cell_type": "markdown",
   "metadata": {},
   "source": [
    "Strings in Python are a bit more complicated because the operations on them aren't just + and * (though those are valid operations).\n",
    "\n",
    "Strings have their own operations we can call on them to change them. We can use dir to get an idea of what they are."
   ]
  },
  {
   "cell_type": "code",
   "execution_count": null,
   "metadata": {},
   "outputs": [],
   "source": [
    "dir(\"Hello, World!\")"
   ]
  },
  {
   "cell_type": "markdown",
   "metadata": {},
   "source": [
    "That is a really long list. For now you can ignore the ones which start and end with underscores (\"_\"), but that still leaves a lot! Let's start with upper and lower.\n",
    "\n",
    "Let's say you are really happy to the world, and you want to make sure everyone knows it, you can use upper. \"upper\" is short for uppercase and you will see what it does by running the code block below."
   ]
  },
  {
   "cell_type": "code",
   "execution_count": null,
   "metadata": {},
   "outputs": [],
   "source": [
    "string = \"Hello, World\"\n",
    "string.upper()"
   ]
  },
  {
   "cell_type": "markdown",
   "metadata": {},
   "source": [
    "Maybe you are feeling a bit sad and you want to be quiet, you can then use lower."
   ]
  },
  {
   "cell_type": "code",
   "execution_count": null,
   "metadata": {},
   "outputs": [],
   "source": [
    "string = \"Hello, World\"\n",
    "string.lower()"
   ]
  },
  {
   "cell_type": "markdown",
   "metadata": {},
   "source": [
    "We use the dot (\".\") operator to call these operations on the string. What lower and upper operate on comes before the dot and needs to be a string variable or literal."
   ]
  },
  {
   "cell_type": "code",
   "execution_count": null,
   "metadata": {},
   "outputs": [],
   "source": [
    "\"Hello, World\".upper()"
   ]
  },
  {
   "cell_type": "markdown",
   "metadata": {},
   "source": [
    "Formating\n",
    "---------\n",
    "\n",
    "Sometimes you want to create a string out of a few other strings. Above we printed\n",
    "\n",
    "    Hello,\n",
    "    Your Name\n",
    "\n",
    "by using two print statements, but it would be nice to output \"Hello, Your Name!\" instead. (Where Your Name is actually your name... oh variables)\n",
    "\n",
    "We can do this with the string operation called format. Format is different from lower and upper because it can take other arguments. An *agrument* is what coders call the value passed to an operation or function, it doesn't mean we are fighting."
   ]
  },
  {
   "cell_type": "code",
   "execution_count": null,
   "metadata": {},
   "outputs": [],
   "source": [
    "your_name = \"Put your name here\"\n",
    "string = \"Hello, {0}!\"\n",
    "print(string.format(your_name))"
   ]
  },
  {
   "cell_type": "markdown",
   "metadata": {},
   "source": [
    "We can also used literal strings:"
   ]
  },
  {
   "cell_type": "code",
   "execution_count": null,
   "metadata": {},
   "outputs": [],
   "source": [
    "print(\"Hello, {0}!\".format(\"Put your name here\"))"
   ]
  },
  {
   "cell_type": "markdown",
   "metadata": {},
   "source": [
    "{0} is kind of weird. {0} is  where the first argument, \"Kevin Vinsen\", to format() is placed in the resulting text. {1} would mean use the second value if there was one. See below!\n",
    "\n",
    "Indexed by Zero\n",
    "---------------\n",
    "\n",
    "For better or worse, (and practically it is better most of the time) everything in Python is index by 0. We will see this over and over again but for now if you call format like this:"
   ]
  },
  {
   "cell_type": "code",
   "execution_count": null,
   "metadata": {},
   "outputs": [],
   "source": [
    "\"{0} likes {1}\".format(\"Put your name here\", 'Python')"
   ]
  },
  {
   "cell_type": "markdown",
   "metadata": {},
   "source": [
    "We would call \"Put your name here\" the 0th string passed into format and 'Python' the 1st. It is kind of weird, but roll with it. It will eventually make things eaiser.\n",
    "\n",
    "Line Endings\n",
    "------------\n",
    "\n",
    "Let's say we wanted to represent the string in one string variable?\n",
    "\n",
    "    The International Centre for Radio Astronomy Research,\n",
    "    The University of Western Australia,\n",
    "    35 Stirling Highway,\n",
    "    Crawley,\n",
    "    WA 6009\n",
    "\n",
    "A line ending is one example of something which is part of text on the screen that we need to somehow represent in a string. The key is the backslash (\"\\\") character. \"\\n\" and \"\\r\\n\" represents two kind of line endings. Try adding \"\\n\" in the right place to make it appear like the text at the beginning of this section."
   ]
  },
  {
   "cell_type": "code",
   "execution_count": null,
   "metadata": {},
   "outputs": [],
   "source": [
    "print(\"The International Centre for Radio Astronomy Research,\\n The University of Western Australia, 35 Stirling Highway, Crawley, WA 6009\")"
   ]
  },
  {
   "cell_type": "markdown",
   "metadata": {},
   "source": [
    "Exercise\n",
    "---------\n",
    "\n",
    "Mrs O'Connor is sending a short email message to Kevin. She wants to format the message on screen so she knows what she is sending. She is using the string called template below. Change the value of the template string to make it better. You can run the block to get further instructions."
   ]
  },
  {
   "cell_type": "code",
   "execution_count": null,
   "metadata": {},
   "outputs": [],
   "source": [
    "# Edit this string\n",
    "template =\"{0} {1} {2} {3}\"\n",
    "\n",
    "# Leave this alone please, it will help you as you go through the exercise\n",
    "check('p1', template.format(\"mrs.o'connor@domain.org\", \"kevin@domain.org\", \"Mrs O'Connor's Subject\", \"This is my one line message!\"))"
   ]
  },
  {
   "cell_type": "markdown",
   "metadata": {},
   "source": [
    "Part 3\n",
    "======\n",
    "\n",
    "If Else\n",
    "-------\n",
    "\n",
    "Has an application ever ask you a question? Maybe it asks you if you really want to quit because unsaved changed might lost, or if you want to leave a webpage. If you answer OK one thing happen, like your application closing, but if you answer No or Cancel something else happens. In all those cases there is a special piece of code that is being run somewhere, it is an *if* condition.\n",
    "\n",
    "Like all languages, Python allows us to conditionally run code.\n",
    "\n",
    "To have an if condition we need the idea of something being true and something being false. Remember, we call numbers \"integers\" and \"floating point\", and text \"strings\". We call true or false \"boolean\" values. True would represent OK where as false would represent No or Cancel in the example above.\n",
    "\n",
    "The literal values in Python for true and false are \"True\" and \"False\"\n"
   ]
  },
  {
   "cell_type": "code",
   "execution_count": null,
   "metadata": {},
   "outputs": [],
   "source": [
    "False is False"
   ]
  },
  {
   "cell_type": "code",
   "execution_count": null,
   "metadata": {},
   "outputs": [],
   "source": [
    "True is True"
   ]
  },
  {
   "cell_type": "code",
   "execution_count": null,
   "metadata": {},
   "outputs": [],
   "source": [
    "True is False"
   ]
  },
  {
   "cell_type": "code",
   "execution_count": null,
   "metadata": {},
   "outputs": [],
   "source": [
    "true is False"
   ]
  },
  {
   "cell_type": "markdown",
   "metadata": {},
   "source": [
    "We can write expressions with operations too."
   ]
  },
  {
   "cell_type": "code",
   "execution_count": null,
   "metadata": {},
   "outputs": [],
   "source": [
    "1 > 2"
   ]
  },
  {
   "cell_type": "code",
   "execution_count": null,
   "metadata": {},
   "outputs": [],
   "source": [
    "\"Cool\".startswith(\"C\")"
   ]
  },
  {
   "cell_type": "code",
   "execution_count": null,
   "metadata": {},
   "outputs": [],
   "source": [
    "\"Cool\".endswith(\"C\")"
   ]
  },
  {
   "cell_type": "code",
   "execution_count": null,
   "metadata": {},
   "outputs": [],
   "source": [
    "\"oo\" in \"Cool\""
   ]
  },
  {
   "cell_type": "code",
   "execution_count": null,
   "metadata": {},
   "outputs": [],
   "source": [
    "42 == 1 # note the double equals sign for equality"
   ]
  },
  {
   "cell_type": "markdown",
   "metadata": {},
   "source": [
    "In order to write an \"if\" statement we need code that spans multiple lines\n",
    "\n",
    "    if condition:\n",
    "        print(\"Condition is True\")\n",
    "    else:\n",
    "        print(\"Condition is False\")\n",
    "\n",
    "Some things to notice. The if condition ends in a colon (\":\"). In Python blocks of code are indicated with a colon (\":\") and are grouped by white space. Notice the else also ends with a colon (\":\"), \"else:\". Let's try changing the condition and see what happens."
   ]
  },
  {
   "cell_type": "code",
   "execution_count": null,
   "metadata": {},
   "outputs": [],
   "source": [
    "condition = 1 > 2\n",
    "if condition:\n",
    "    print(\"Condition is True\")\n",
    "else:\n",
    "    print(\"Condition is False\")"
   ]
  },
  {
   "cell_type": "markdown",
   "metadata": {},
   "source": [
    "About that white space, consider the following code:\n",
    "\n",
    "    if condition:\n",
    "        print(\"Condition is True\")\n",
    "    else:\n",
    "        print(\"Condition is False\")\n",
    "    print(\"Condition is True or False, either way this is outputted\")\n",
    "\n",
    "Since the last print statement isn't indented it gets run after the if block or the else block.\n",
    "\n",
    "You can play with this. Try indenting the last print statement below and see what happens."
   ]
  },
  {
   "cell_type": "code",
   "execution_count": null,
   "metadata": {},
   "outputs": [],
   "source": [
    "condition = True\n",
    "if condition:\n",
    "    print(\"Condition is True\")\n",
    "else:\n",
    "    print(\"Condition is False\")\n",
    "print(\"Condition is True or False, either way this is outputted\")"
   ]
  },
  {
   "cell_type": "markdown",
   "metadata": {},
   "source": [
    "Exercise\n",
    "---------\n",
    "\n",
    "You can also use \"and\" and \"or\" to combine conditions. Let's look at and.\n",
    "\n",
    "    True and True is True\n",
    "    True and False is False\n",
    "    False and True is False\n",
    "    False and False is False\n",
    "\n",
    "With \"and\" both conditions have to be True to be True. \n",
    "\n",
    "Below change the values of the three variables to make the entire \"if condition\" true."
   ]
  },
  {
   "cell_type": "code",
   "execution_count": null,
   "metadata": {},
   "outputs": [],
   "source": [
    "# Edit the values of these 3 variables\n",
    "boolean_literal = False\n",
    "number = 8\n",
    "string_literal = \"I like to count sheep before bed.\"\n",
    "\n",
    "# Leave this code the same please\n",
    "if number > 10 and boolean_literal and \"cows\" in string_literal:\n",
    "    print(\"Success!\")\n",
    "else:\n",
    "    print(\"Try again!\")\n",
    "\n",
    "# This just provides some hints\n",
    "check(\"p3\", (number, boolean_literal, string_literal))"
   ]
  },
  {
   "cell_type": "markdown",
   "metadata": {},
   "source": [
    "Part 4\n",
    "======\n",
    "\n",
    "Lists\n",
    "-----\n",
    "\n",
    "So far we have numbers, strings, and conditional if statements. Now for our first container &mdash; a list.\n",
    "\n",
    "A list in Python is just like a shopping list or a list of numbers. They have a defined order and you can add to it or remove from it.\n",
    "\n",
    "Let's take a look at some simple lists."
   ]
  },
  {
   "cell_type": "code",
   "execution_count": null,
   "metadata": {},
   "outputs": [],
   "source": [
    "# The empty list\n",
    "[]"
   ]
  },
  {
   "cell_type": "code",
   "execution_count": null,
   "metadata": {},
   "outputs": [],
   "source": [
    "[\"Milk\", \"Eggs\", \"Bacon\"]"
   ]
  },
  {
   "cell_type": "code",
   "execution_count": null,
   "metadata": {},
   "outputs": [],
   "source": [
    "[1,2,3]"
   ]
  },
  {
   "cell_type": "markdown",
   "metadata": {},
   "source": [
    "List literals are all about square brackets (\"[ ]\") and commas (\",\"). You can create a list of literals by wrapping them in square brackets and separating them with commas.\n",
    "\n",
    "You can even mix different types of things into the same list; numbers, strings, booleans."
   ]
  },
  {
   "cell_type": "code",
   "execution_count": null,
   "metadata": {},
   "outputs": [],
   "source": [
    "[True, 0, \"Awesome\"]"
   ]
  },
  {
   "cell_type": "markdown",
   "metadata": {},
   "source": [
    "We can put variables into a list and set a variable to a list."
   ]
  },
  {
   "cell_type": "code",
   "execution_count": null,
   "metadata": {},
   "outputs": [],
   "source": [
    "your_name = \"Put your name here\"\n",
    "awesome_people = [\"Mrs O'Connor\", your_name]\n",
    "print(awesome_people)"
   ]
  },
  {
   "cell_type": "markdown",
   "metadata": {},
   "source": [
    "Like strings lists have operations"
   ]
  },
  {
   "cell_type": "code",
   "execution_count": null,
   "metadata": {},
   "outputs": [],
   "source": [
    "dir([])"
   ]
  },
  {
   "cell_type": "markdown",
   "metadata": {},
   "source": [
    "\"append\" is an interesting one. \"append\" lets you add an item to the end of a list."
   ]
  },
  {
   "cell_type": "code",
   "execution_count": null,
   "metadata": {},
   "outputs": [],
   "source": [
    "your_name = \"Put your name here\"\n",
    "awesome_people = [\"Mrs O'Connor\", your_name]\n",
    "awesome_people.append(\"Kevin Vinsen\")\n",
    "print(awesome_people)"
   ]
  },
  {
   "cell_type": "markdown",
   "metadata": {},
   "source": [
    "We can use square brackets (\"[]\") again with the variable of the list to access individual elements."
   ]
  },
  {
   "cell_type": "code",
   "execution_count": null,
   "metadata": {},
   "outputs": [],
   "source": [
    "awesome_people[0]"
   ]
  },
  {
   "cell_type": "markdown",
   "metadata": {},
   "source": [
    "There is that 0 indexing again. The first element of the list is given index value 0."
   ]
  },
  {
   "cell_type": "code",
   "execution_count": null,
   "metadata": {},
   "outputs": [],
   "source": [
    "print(\"These people are awesome: {0}, {1}, {2}\".format(awesome_people[0], awesome_people[1], awesome_people[2]))"
   ]
  },
  {
   "cell_type": "markdown",
   "metadata": {},
   "source": [
    "Loops\n",
    "-----\n",
    "\n",
    "Indexes are useful, but lists really shine when you start looping.\n",
    "\n",
    "Loops let you do something for each item in a list. They are kind of like if statements because they have an indented block.\n",
    "\n",
    "They look like this:\n",
    "\n",
    "    for item in list:\n",
    "        print(item) # Do any action per item in the list\n",
    "\n",
    "\"for\" and \"in\" are required. \"list\" can be any variable or literal which is like a list. \"item\" is the name you want to give each item of the list in the indented block as you iterate through. We call each step where item has a new value an iteration.\n",
    "\n",
    "Let's see it in action with our list"
   ]
  },
  {
   "cell_type": "code",
   "execution_count": null,
   "metadata": {},
   "outputs": [],
   "source": [
    "your_name = \"Put your name here\"\n",
    "awesome_people = [\"Mrs O'Connor\", your_name]\n",
    "awesome_people.append(\"Kevin Vinsen\")\n",
    "\n",
    "for person in awesome_people:\n",
    "    print(person)"
   ]
  },
  {
   "cell_type": "markdown",
   "metadata": {},
   "source": [
    "This is bascially the same as writing"
   ]
  },
  {
   "cell_type": "code",
   "execution_count": null,
   "metadata": {},
   "outputs": [],
   "source": [
    "person = awesome_people[0]\n",
    "print(person)\n",
    "person = awesome_people[1]\n",
    "print(person)\n",
    "person = awesome_people[2]\n",
    "print(person)"
   ]
  },
  {
   "cell_type": "markdown",
   "metadata": {},
   "source": [
    "But that is a lot more code than:\n",
    "\n",
    "    for person in awesome_people:\n",
    "        print(person)\n",
    "\n",
    "Considering that our list of awesome people could be very long!\n",
    "\n",
    "You can use the built-in function \"range\" to create lists of numbers easily"
   ]
  },
  {
   "cell_type": "code",
   "execution_count": null,
   "metadata": {},
   "outputs": [],
   "source": [
    "range(0,10)"
   ]
  },
  {
   "cell_type": "markdown",
   "metadata": {},
   "source": [
    "And then we can use that with a loop to print a list of squares."
   ]
  },
  {
   "cell_type": "code",
   "execution_count": null,
   "metadata": {},
   "outputs": [],
   "source": [
    "for number in range(0,10):\n",
    "    print(\"{0} squared is {1}\".format(number, number*number))"
   ]
  },
  {
   "cell_type": "markdown",
   "metadata": {},
   "source": [
    "Exercise\n",
    "---------\n",
    "\n",
    "Create a list of numbers where every item in the list is the same as its index, i.e. number_list[4] is 4. The list should contain 5 items."
   ]
  },
  {
   "cell_type": "code",
   "execution_count": null,
   "metadata": {},
   "outputs": [],
   "source": [
    "# Edit the contents of this list\n",
    "number_list = []\n",
    "\n",
    "# Leave this line alone please\n",
    "check(\"p4\", number_list)"
   ]
  },
  {
   "cell_type": "markdown",
   "metadata": {},
   "source": [
    "Part 5\n",
    "======\n",
    "\n",
    "Dictionaries\n",
    "------------\n",
    "\n",
    "We have come a long way! Just one more section. Dictionaries are another container like lists, but instead of being index by a number like 0 or 1 it is indexed by a key which can be almost anything. The name comes from being able to use it to represent a dictionary.\n",
    "\n",
    "List literals use square brackets (\"[ ]\") but dictionaries use braces (\"{ }\"). Use \"shift-[\" to type \"{\".\n",
    "\n",
    "    {\"Python\": \"An awesome programming language\", \n",
    "     \"Monty Python\": \"A british comedy troupe\"}\n",
    "\n",
    "In a dictionary the key comes first followed by a colon (\":\") than the value then a comma (\",\") then another key and so on. This is one situation where a colon doesn't start a block.\n",
    "\n",
    "Let's see what running the literal dictionary looks like."
   ]
  },
  {
   "cell_type": "code",
   "execution_count": null,
   "metadata": {},
   "outputs": [],
   "source": [
    "{\"Python\": \"An awesome programming language\", \n",
    " \"Monty Python\": \"A british comedy troupe\"}"
   ]
  },
  {
   "cell_type": "markdown",
   "metadata": {},
   "source": [
    "We can assign a dictionary to a variable and we can index it by keys to get the values (definitions) out."
   ]
  },
  {
   "cell_type": "code",
   "execution_count": null,
   "metadata": {},
   "outputs": [],
   "source": [
    "our_dictionary = {\n",
    "   \"Python\": \"An awesome programming language\", \n",
    "   \"Monty Python\": \"A british comedy troupe\"\n",
    "}\n",
    "our_dictionary[\"Python\"]"
   ]
  },
  {
   "cell_type": "markdown",
   "metadata": {},
   "source": [
    "We can loop over the keys in a dictionary to list all of our definitions..."
   ]
  },
  {
   "cell_type": "code",
   "execution_count": null,
   "metadata": {},
   "outputs": [],
   "source": [
    "for key in our_dictionary:\n",
    "    print('The Key is \"{0}\" and the value is  \"{1}\"'.format(key, our_dictionary[key]))"
   ]
  },
  {
   "cell_type": "markdown",
   "metadata": {},
   "source": [
    "Part 6\n",
    "======\n",
    "\n",
    "Let's write a 1980's style text based game."
   ]
  },
  {
   "cell_type": "code",
   "execution_count": null,
   "metadata": {},
   "outputs": [],
   "source": [
    "import time\n",
    "from random import randint\n",
    "\n",
    "print('\\n' * 100)\n",
    "print('\\n\\n[-Droids : by jay : type help-]')\n",
    "print('\\n\\n\\n------------------------')\n",
    "print('        DROIDS')\n",
    "print('------------------------')\n",
    "print('\\n10.03.2245 : cytek inc.')\n",
    "time.sleep(1)\n",
    "print('\\nCTRL866 Re-Boot Sequence....')\n",
    "time.sleep(1)\n",
    "print('\\nInitalizing Control Droid 866....')\n",
    "time.sleep(1)\n",
    "print('....')\n",
    "time.sleep(1)\n",
    "print('....')\n",
    "time.sleep(1)\n",
    "print('Laser offline...')\n",
    "time.sleep(1)\n",
    "print('Motion Tracker offline...')\n",
    "time.sleep(1)\n",
    "print('\\nService Port avaliable...')\n",
    "time.sleep(1)\n",
    "print('....')\n",
    "time.sleep(1)\n",
    "print('....')\n",
    "print('\\nControl Droid Active.')\n",
    "time.sleep(1)\n",
    "print('''\\n\\nYou are the 866 Control Droid aboard \n",
    "the Droid Shuttle 'KERNEL'. Enemy droids have boarded\n",
    "and have taken over flight path. You are damaged & have been \n",
    "re-initialized but your laser and motion tracker are offline.''')\n",
    "\n",
    "def start(inventory):\n",
    "    print('\\n----------')\n",
    "    print('\\nDroid mobile..')\n",
    "    time.sleep(1)\n",
    "    print('....')\n",
    "    time.sleep(1)\n",
    "    print('\\n[-MAIN ELEVATOR-]')\n",
    "    print('\\n1.) deck 1 - Security')\n",
    "    print('2.) deck 2 - Maintenance')\n",
    "    print('3.) deck 3 - Cargo Hold - Airlock')\n",
    "    print('4.) deck 4 - Droid Hangar')\n",
    "    print('5.) deck 5 - Shuttle Control')\n",
    "    print('6.) deck 6 - Observation\\n')\n",
    "\n",
    "    cmdlist = ['1', '2', '3', '4', '5', '6',]\n",
    "    cmd = getcmd(cmdlist)\n",
    "\n",
    "    if cmd == '1':\n",
    "        security(inventory)\n",
    "    elif cmd == '2':\n",
    "        if 'droid hack' in inventory:\n",
    "            print('\\n- DECK 2 - MAINTENANCE LOCKED -')\n",
    "            time.sleep(2)\n",
    "            start(inventory)\n",
    "        else:\n",
    "            maintenance(inventory)\n",
    "    elif cmd == '3':\n",
    "        cargo_hold(inventory)\n",
    "    elif cmd == '4':\n",
    "        if 'laser' in inventory:\n",
    "            print('\\n- DECK 4 - DROID HANGAR LOCKED -')\n",
    "            time.sleep(2)\n",
    "            start(inventory)\n",
    "        else:\n",
    "            droid_hangar(inventory)\n",
    "    elif cmd == '5':\n",
    "        shuttle_control(inventory)\n",
    "    elif cmd == '6':\n",
    "        if 'motion tracker' in inventory:\n",
    "            print('\\n- DECK 6 - OBSERVATION LOCKED -')\n",
    "            time.sleep(2)\n",
    "            start(inventory)\n",
    "        else:\n",
    "            observation(inventory)\n",
    "\n",
    "def maintenance(inventory):\n",
    "    print('\\n----------')\n",
    "    print('\\nDroid mobile..')\n",
    "    time.sleep(1)\n",
    "    print('....')\n",
    "    time.sleep(1)\n",
    "    print('''\\nThis is the maintenance deck and it appears deserted. \n",
    "You can see a terminated crew droid, it has sustained\n",
    "severe laser fire.''')\n",
    "    print('\\n[-MAINTENANCE-]\\n')\n",
    "    print('1.) 716 Crew Droid')\n",
    "    print('2.) Return to Main Elevator\\n')\n",
    "\n",
    "    cmdlist = ['1', '2']\n",
    "    cmd = getcmd(cmdlist)\n",
    "    if cmd == '1':\n",
    "        crew_droid(inventory)\n",
    "    elif cmd == '2':\n",
    "        start(inventory)\n",
    "\n",
    "def crew_droid(inventory, items=['droid hack']):\n",
    "    print('\\n----------')\n",
    "    print('''\\n716 has a droid hack program and it's connection\n",
    "outlet is still intact. You can connect to this droid with service\n",
    "port and download the program.''')\n",
    "    if len(items) > 0:\n",
    "        for item in items:\n",
    "            print('\\n--> %s' % (item))\n",
    "            print('\\n\\n1.) Exit.')\n",
    "    cmdlist = ['service port', '1']\n",
    "    cmd = getcmd(cmdlist)\n",
    "    if cmd == 'service port':\n",
    "        inventory.append('droid hack')\n",
    "        items = ['droid hack']\n",
    "        print('\\nservice port connected.')\n",
    "        time.sleep(1)\n",
    "        print('accessing file..')\n",
    "        time.sleep(1)\n",
    "        print('downloading..')\n",
    "        time.sleep(1)\n",
    "        print('....')\n",
    "        time.sleep(1)\n",
    "        print('\\ndownload complete.')\n",
    "        print('\\nYou have the droid hack program and return')\n",
    "        print('to the Main Elevator.')\n",
    "        time.sleep(2)\n",
    "        start(inventory)\n",
    "    elif cmd == '1':\n",
    "        maintenance(inventory)\n",
    "    else:\n",
    "        print('\\n error. invalid command-')\n",
    "\n",
    "def cargo_hold(inventory):\n",
    "    print('\\n----------')\n",
    "    print('\\nDroid mobile..')\n",
    "    time.sleep(1)\n",
    "    print('....')\n",
    "    time.sleep(1)\n",
    "    print('''\\nYou enter the Cargo Hold, two Enemy Combat droids\n",
    "unload a barrage of laser fire at you. Their fire is very accurate\n",
    "and you take a direct hit in your main CPU.''')\n",
    "    print('\\n[-CARGO HOLD - AIRLOCK-]')\n",
    "    print('....')\n",
    "    time.sleep(1)\n",
    "    print('....')\n",
    "    time.sleep(1)\n",
    "    print('\\nshutdown imminent...')\n",
    "    time.sleep(1)\n",
    "    print('CTRL866 offline.')\n",
    "    time.sleep(1)\n",
    "    print('Droid terminated.')\n",
    "    print('\\nGAME OVER\\n')\n",
    "    exit(0)\n",
    "\n",
    "def droid_hangar(inventory):\n",
    "    print('\\n----------')\n",
    "    print('\\nDroid mobile..')\n",
    "    time.sleep(1)\n",
    "    print('....')\n",
    "    time.sleep(1)\n",
    "    print('''\\nThe Droid Hangar is filled with debri. There\n",
    "is laser scoring everywhere and all droids are terminated.\n",
    "In the corner there is one inactive repair droid still in his security\n",
    "cylinder. You can initialise the droid to repair your laser but you will \n",
    "require a 3 digit access code.\\n''')\n",
    "    print('[-DROID HANGAR-]')\n",
    "    print('\\n1.) Repair Droid 3 digit code')\n",
    "    print('2.) Return to Main Elevator')\n",
    "\n",
    "    cmdlist = ['1', '2']\n",
    "    cmd = getcmd(cmdlist)\n",
    "\n",
    "    if cmd == '1':\n",
    "        access_code(inventory)\n",
    "    elif cmd == '2':\n",
    "        start(inventory)\n",
    "\n",
    "def access_code(inventory):\n",
    "    code = '%d%d%d' % (randint(0,9), randint(0,9), randint(0,9))\n",
    "    guess = input('\\n[KEYPAD]> ')\n",
    "    guesses = 0\n",
    "\n",
    "    while guess != code and guess != 'yu8xxj3' and guesses <4:\n",
    "        print('\\n* ACCESS - DENIED *')\n",
    "        guesses += 1\n",
    "        guess = input('\\n[KEYPAD]> ')\n",
    "\n",
    "    if guess == code or guess == 'yu8xxj3':\n",
    "        repair_droid(inventory)\n",
    "    else:\n",
    "        print('\\n....')\n",
    "        time.sleep(1)\n",
    "        print('\\n....')\n",
    "        time.sleep(1)\n",
    "        print('\\nKEYPAD - LOCKED')\n",
    "        time.sleep(1)\n",
    "        print('\\ncode randomizing..')\n",
    "        time.sleep(1)\n",
    "        print('\\nKEYPAD - OPEN')\n",
    "        time.sleep(1)\n",
    "        droid_hangar(inventory)\n",
    "\n",
    "def repair_droid(inventory, items=['laser']):\n",
    "    print('\\n\\n----------')\n",
    "    print('\\nREP323 boot sequence....')\n",
    "    time.sleep(1)\n",
    "    print('Initalizing Repair Droid 323....')\n",
    "    time.sleep(1)\n",
    "    print('....')\n",
    "    time.sleep(1)\n",
    "    print('....')\n",
    "    time.sleep(1)\n",
    "    print('Repair Droid Active.')\n",
    "    time.sleep(1)\n",
    "    print('''\\nThe Repair droid is now active. You MUST connect to\n",
    "this droid with service port to repair laser.''')\n",
    "\n",
    "    if len(items) > 0:\n",
    "        for item in items:\n",
    "            print('\\n--> %s' % (item))\n",
    "    cmdlist = ['service port']\n",
    "    cmd = getcmd(cmdlist)\n",
    "    if cmd == 'service port':\n",
    "        inventory.append('laser')\n",
    "        items = ['laser']\n",
    "        print('\\nservice port connected.')\n",
    "        time.sleep(1)\n",
    "        print('Repairing Laser...')\n",
    "        time.sleep(1)\n",
    "        print('Auto alignment...')\n",
    "        time.sleep(1)\n",
    "        print('....')\n",
    "        time.sleep(1)\n",
    "        print('\\nLASER ONLINE.')\n",
    "        print('''\\nYour laser is now online. You de-activate the Repair\n",
    "Droid and return to the Main Elevator.''')\n",
    "        time.sleep(2)\n",
    "        start(inventory)\n",
    "    else:\n",
    "        print('\\n error. invalid command-')\n",
    "\n",
    "def security(inventory):\n",
    "    print('\\n----------')\n",
    "    print('\\nDroid mobile..')\n",
    "    time.sleep(1)\n",
    "    print('....')\n",
    "    time.sleep(1)\n",
    "    print('''\\nYou are on the Security Deck. This is where all\n",
    "surveillance aboard the shuttle is done. Sentry droid 343 has been\n",
    "terminated. You MUST access the Sentry droid's logs but you\n",
    "will have to hack the data recorder.\\n''')\n",
    "    print('[-SECURITY-]\\n')\n",
    "    print('1.) View Surveillance monitors on other decks')\n",
    "    print('2.) Hack Sentry droid 343')\n",
    "    print('3.) Return to main elevator')\n",
    "\n",
    "    cmdlist =['1', '2', '3']\n",
    "    cmd = getcmd(cmdlist)\n",
    "\n",
    "    if cmd == '1':\n",
    "        print('\\n----------')\n",
    "        print('\\nBooting Monitors....')\n",
    "        time.sleep(1)\n",
    "        print('....')\n",
    "        time.sleep(1)\n",
    "        print('...')\n",
    "        time.sleep(1)\n",
    "        print('Monitors active.')\n",
    "        time.sleep(1)\n",
    "        print('\\n[-SURVEILLANCE FEED-]')\n",
    "        print('''\\n-The Hangar monitor is offline you have no live feed.\n",
    "\\n-In the Cargo hold there are two Enemy Combat droids patroling.\n",
    "\\n-The Maintenance deck looks clear except for a few terminated droids.\n",
    "\\n-An Elite Enemy Command droid is posted on the Shuttle Control deck.\n",
    "\\n-Observation shows a Enemy Sentry droid.''')\n",
    "        time.sleep(2)\n",
    "        security(inventory)\n",
    "\n",
    "    elif cmd == '2':\n",
    "        if 'droid hack' in inventory:\n",
    "            print('\\nloading droid hack....')\n",
    "            time.sleep(2)\n",
    "            print('....')\n",
    "            time.sleep(2)\n",
    "            print('10000101010101010101010' * 1000)\n",
    "            time.sleep(1)\n",
    "            print('....')\n",
    "            time.sleep(1)\n",
    "            print('Accessing encrypted files...')\n",
    "            time.sleep(2)\n",
    "            print('Decrypting....')\n",
    "            time.sleep(2)\n",
    "            print('\\n\\n[-SEN343 LOG-]')\n",
    "            time.sleep(1)\n",
    "            print('\\n\\nDAILY OVER-RIDE CODES- HANGAR DROIDS')\n",
    "            time.sleep(1)\n",
    "            print('\\n\\n-Combat Droids - szb41ee')\n",
    "            time.sleep(1)\n",
    "            print('\\n\\n-Sentry Droids - qr66mop')\n",
    "            time.sleep(1)\n",
    "            print('\\n\\n-Repair Droids - yu8xxj3')\n",
    "            time.sleep(1)\n",
    "            print('\\n\\nCODES WILL BE RESET EVERY 24 HOURS')\n",
    "            security(inventory)\n",
    "        else:\n",
    "            print('\\n- ACCESS TO DATA RECORDER DENIED -')\n",
    "            time.sleep(2)\n",
    "            security(inventory)\n",
    "\n",
    "    elif cmd == '3':\n",
    "        start(inventory)\n",
    "\n",
    "def observation(inventory):\n",
    "    print('\\n----------')\n",
    "    print('\\nDroid mobile..')\n",
    "    time.sleep(1)\n",
    "    print('....')\n",
    "    time.sleep(1)\n",
    "    print('''\\nYou enter the Observation deck and are confronted \n",
    "with a Enemy Sentry droid beside a disabled crew droid. \n",
    "His laser is almost charged and will be active in seconds.\\n''')\n",
    "    print('[-OBSERVATION-]\\n')\n",
    "    print('1.) Terminate Sentry Droid')\n",
    "    print('2.) Retreat to Main Elevator.')\n",
    "\n",
    "    cmdlist = ['1', '2']\n",
    "    cmd = getcmd(cmdlist)\n",
    "\n",
    "    if cmd == '1':\n",
    "        if 'laser' in inventory:\n",
    "            print('\\nlaser active...')\n",
    "            time.sleep(1)\n",
    "            print('target locked...')\n",
    "            time.sleep(1)\n",
    "            print('...')\n",
    "            time.sleep(1)\n",
    "            print('\\nTARGET TERMINATED\\n')\n",
    "            enemy_sentry(inventory)\n",
    "        else:\n",
    "            print('\\n- WARNING LASER OFFLINE -')\n",
    "            time.sleep(2)\n",
    "            print('''\\nThe Sentry Droids laser is now active and has you locked\n",
    "on. You try to initiate self-destruct but its to late..''')\n",
    "            print('....')\n",
    "            time.sleep(1)\n",
    "            print('....')\n",
    "            time.sleep(1)\n",
    "            print('\\nshutdown imminent...')\n",
    "            time.sleep(1)\n",
    "            print('CTRL866 offline.')\n",
    "            time.sleep(1)\n",
    "            print('Droid terminated.')\n",
    "            print('\\nGAME OVER\\n')\n",
    "            exit(0)\n",
    "\n",
    "    elif cmd == '2':\n",
    "        print('''\\nThe Sentry droids laser is now active and has you locked\n",
    "on. You try to retreat back to the elevator but its to late..''')\n",
    "        print('....')\n",
    "        time.sleep(1)\n",
    "        print('....')\n",
    "        time.sleep(1)\n",
    "        print('\\nshutdown imminent...')\n",
    "        time.sleep(1)\n",
    "        print('CTRL866 offline.')\n",
    "        time.sleep(1)\n",
    "        print('Droid terminated.')\n",
    "        print('\\nGAME OVER\\n')\n",
    "        exit(0)\n",
    "\n",
    "def enemy_sentry(inventory, items=['motion tracker']):\n",
    "    print('\\n----------')\n",
    "    time.sleep(1)\n",
    "    print('''\\nThe Enemy Sentry droid has been terminated. \n",
    "Judging by the model you know he has a\n",
    "motion tracker repair program installed. You MUST connect \n",
    "to this droid with service port and download the program.''')\n",
    "    if len(items) > 0:\n",
    "        for item in items:\n",
    "            print('\\n--> %s' % (item))\n",
    "    cmdlist = ['service port']\n",
    "    cmd = getcmd(cmdlist)\n",
    "    if cmd == 'service port':\n",
    "        inventory.append('motion tracker')\n",
    "        items = ['motion tracker']\n",
    "        print('\\nservice port connected.')\n",
    "        time.sleep(1)\n",
    "        print('accessing file..')\n",
    "        time.sleep(1)\n",
    "        print('downloading..')\n",
    "        time.sleep(1)\n",
    "        print('....')\n",
    "        time.sleep(1)\n",
    "        print('Repairing Motion Tracker...')\n",
    "        time.sleep(1)\n",
    "        print('Auto alignment...')\n",
    "        time.sleep(1)\n",
    "        print('....')\n",
    "        time.sleep(2)\n",
    "        print('\\nMOTION TRACKER ONLINE.')\n",
    "        time.sleep(2)\n",
    "        print('''\\nYour Motion Tracker is now online.\n",
    "You return to the main elevator''')\n",
    "        start(inventory)\n",
    "\n",
    "def shuttle_control(inventory):\n",
    "    print('\\n----------')\n",
    "    print('\\nDroid mobile..')\n",
    "    time.sleep(1)\n",
    "    print('....')\n",
    "    time.sleep(1)\n",
    "    print('''\\nYou enter Shuttle Control where all navigation takes place.\n",
    "A 999 Elite Enemy Command droid is posted here.\n",
    "This Droid is extremely powerfull.''')\n",
    "    print('\\n[-SHUTTLE CONTROL-]')\n",
    "    print('\\n1.) Terminate the 999 Elite Enemy Command Droid')\n",
    "    print('2.) Retreat to Main Elevator')\n",
    "    cmdlist = ['1', '2']\n",
    "    cmd = getcmd(cmdlist)\n",
    "\n",
    "    if cmd == '1':\n",
    "        if 'laser' in inventory and 'motion tracker' in inventory and 'droid hack' in inventory:\n",
    "            print('\\n....')\n",
    "            time.sleep(1)\n",
    "            print('\\n....')\n",
    "            command_droid(inventory)\n",
    "        else:\n",
    "            time.sleep(1)\n",
    "            print('\\nEECD999:>')\n",
    "            print('\\n100101010101010101010101010101010' * 10)\n",
    "            time.sleep(1)\n",
    "            print('''\\nThe Elite Enemy Command droid laughs in machine language\n",
    "at your pathetic attempt. The last thing your data recorder gets is the\n",
    "deafing sound of a Target Lock.''')\n",
    "            print('....')\n",
    "            time.sleep(1)\n",
    "            print('....')\n",
    "            time.sleep(1)\n",
    "            print('\\nshutdown imminent...')\n",
    "            time.sleep(1)\n",
    "            print('CTRL866 offline.')\n",
    "            time.sleep(1)\n",
    "            print('Droid terminated.')\n",
    "            print('\\nGAME OVER\\n')\n",
    "            exit(0)\n",
    "    elif cmd == '2':\n",
    "        start(inventory)\n",
    "\n",
    "def command_droid(inventory):\n",
    "    print('\\nRunning droid hack...')\n",
    "    time.sleep(1)\n",
    "    print('\\njamming EECD999 Target Lock...')\n",
    "    time.sleep(1)\n",
    "    print('\\n......')\n",
    "    time.sleep(1)\n",
    "    print('\\nMotion Tracker active...')\n",
    "    time.sleep(1)\n",
    "    print('\\nTrack motion of EECD999...')\n",
    "    time.sleep(1)\n",
    "    print('\\n......')\n",
    "    time.sleep(1)\n",
    "    print('\\nLaser active...')\n",
    "    time.sleep(1)\n",
    "    print('\\nTargeting EECD999...')\n",
    "    time.sleep(1)\n",
    "    print('\\nTarget Locked...')\n",
    "    time.sleep(1)\n",
    "    print('\\n......')\n",
    "    time.sleep(2)\n",
    "    print('\\n\\nTARGET TERMINATED \\n')\n",
    "    time.sleep(2)\n",
    "    print('''\\n\\nYou have defeated the EECD999 droid and taken back control\n",
    "of the 'KERNEL'. The flight path has been restored and\n",
    "a distress signal sent to Droid Command. Reinforcements are inbound.\n",
    "\\n - GAME OVER -\\n''')\n",
    "\n",
    "def getcmd(cmdlist):\n",
    "    cmd = input('\\nCTRL866:> ')\n",
    "    if cmd in cmdlist:\n",
    "        return cmd\n",
    "    elif cmd == 'help':\n",
    "        print('\\nTYPE: inventory to view items')\n",
    "        print('or quit to self-destruct')\n",
    "        return getcmd(cmdlist)\n",
    "    elif cmd == 'inventory':\n",
    "        print('\\ninventory contains:\\n')\n",
    "        for item in inventory:\n",
    "            print('-- %s' % (item))\n",
    "        return getcmd(cmdlist)\n",
    "    elif cmd == 'secret':\n",
    "        print('\\n........')\n",
    "        time.sleep(1)\n",
    "        print('\\n[--Paradroid -- published by Hewson 1985--]')\n",
    "        time.sleep(1)\n",
    "        print('\\n[--written by Andrew Braybrook for Commodore 64 computer--]')\n",
    "        time.sleep(1)\n",
    "        print('\\n[--play this game or die--]')\n",
    "        time.sleep(1)\n",
    "        print('\\n........\\n')\n",
    "        return getcmd(cmdlist)\n",
    "    elif cmd == 'quit':\n",
    "        print('\\n----------')\n",
    "        time.sleep(1)\n",
    "        print('\\nself-destruct sequence initiated...')\n",
    "        time.sleep(1)\n",
    "        print('shutdown imminent...')\n",
    "        time.sleep(1)\n",
    "        print('\\nCTRL866 offline.')\n",
    "        time.sleep(1)\n",
    "        print('Droid terminated.\\n')\n",
    "        exit(0)\n",
    "    else:\n",
    "        print('\\n   error. invalid command-\\n')\n",
    "        return getcmd(cmdlist)\n",
    "\n",
    "\n",
    "inventory = ['service port']\n",
    "start(inventory)"
   ]
  },
  {
   "cell_type": "code",
   "execution_count": null,
   "metadata": {},
   "outputs": [],
   "source": []
  }
 ],
 "metadata": {
  "kernelspec": {
   "display_name": "Python 3",
   "language": "python",
   "name": "python3"
  },
  "language_info": {
   "codemirror_mode": {
    "name": "ipython",
    "version": 3
   },
   "file_extension": ".py",
   "mimetype": "text/x-python",
   "name": "python",
   "nbconvert_exporter": "python",
   "pygments_lexer": "ipython3",
   "version": "3.6.5"
  }
 },
 "nbformat": 4,
 "nbformat_minor": 1
}
